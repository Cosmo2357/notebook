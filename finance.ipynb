{
 "cells": [
  {
   "cell_type": "markdown",
   "metadata": {},
   "source": [
    "# ファイナンス基礎講座\n",
    "本講座では、ファイナンスの基本的な概念と定番の数式について学びます。内容は以下の順に進みます：\n",
    "1. 時間価値の計算（Time Value of Money）\n",
    "2. キャッシュフローと年金（Cash Flow & Annuities）\n",
    "3. 財務指標（Financial Ratios）\n",
    "\n",
    "各章は、公式とその活用法を簡潔に説明します。"
   ]
  },
  {
   "cell_type": "markdown",
   "metadata": {},
   "source": [
    "# 1. 時間価値の計算（Time Value of Money）\n",
    "将来価値や現在価値は、お金の時間価値を評価するための基本的な概念です。\n",
    "\n",
    "- **将来価値（Future Value, FV）**:  \n",
    "  一定期間後の将来の価値を計算します。\n",
    "  $$ FV = PV \\times (1 + r)^n $$\n",
    "  - \\( PV \\): 現在価値\n",
    "  - \\( r \\): 割引率（利率）\n",
    "  - \\( n \\): 期間の数\n",
    "\n",
    "- **現在価値（Present Value, PV）**:  \n",
    "  将来の価値を現在の価値に割り引きます。\n",
    "  $$ PV = \\frac{FV}{(1 + r)^n} $$\n",
    "\n",
    "- **連続複利（Continuous Compounding）**:  \n",
    "  連続複利の場合の将来価値。\n",
    "  $$ FV = PV \\times e^{r \\cdot n} $$"
   ]
  },
  {
   "cell_type": "markdown",
   "metadata": {},
   "source": [
    "# 2. キャッシュフローと年金（Cash Flow & Annuities）\n",
    "キャッシュフローや年金の価値を計算する公式です。\n",
    "\n",
    "- **定額キャッシュフローの現在価値（PV of Annuity）**:  \n",
    "  $$ PV_{annuity} = C \\times \\left( 1 - \\frac{1}{(1 + r)^n} \\right) \\div r $$\n",
    "\n",
    "- **永久キャッシュフローの現在価値（Perpetuity PV）**:  \n",
    "  $$ PV_{perpetuity} = \\frac{C}{r} $$\n",
    "\n",
    "- **成長する永久キャッシュフロー（Growing Perpetuity PV）**:  \n",
    "  $$ PV_{growing\\ perpetuity} = \\frac{C}{r - g} $$\n",
    "\n",
    "- **将来価値（Future Value of Annuity）**:  \n",
    "  $$ FV_{annuity} = C \\times \\left( \\frac{(1 + r)^n - 1}{r} \\right) $$"
   ]
  },
  {
   "cell_type": "markdown",
   "metadata": {},
   "source": [
    "# 3. 財務指標（Financial Ratios）\n",
    "### 3.1 収益性比率（Profitability Ratios）\n",
    "- **純利益率（Net Profit Margin）**:  \n",
    "  $$ \\text{Net Profit Margin} = \\frac{\\text{Net Income}}{\\text{Sales}} $$\n",
    "- **総資本利益率（Return on Assets, ROA）**:  \n",
    "  $$ ROA = \\frac{\\text{Net Income}}{\\text{Total Assets}} $$\n",
    "- **株主資本利益率（Return on Equity, ROE）**:  \n",
    "  $$ ROE = \\frac{\\text{Net Income}}{\\text{Shareholder's Equity}} $$"
   ]
  },
  {
   "cell_type": "markdown",
   "metadata": {},
   "source": [
    "### 3.2 流動性比率（Liquidity Ratios）\n",
    "- **流動比率（Current Ratio）**:  \n",
    "  $$ \\text{Current Ratio} = \\frac{\\text{Current Assets}}{\\text{Current Liabilities}} $$\n",
    "- **当座比率（Quick Ratio / Acid-Test Ratio）**:  \n",
    "  $$ \\text{Quick Ratio} = \\frac{\\text{Current Assets} - \\text{Inventory}}{\\text{Current Liabilities}} $$"
   ]
  },
  {
   "cell_type": "markdown",
   "metadata": {},
   "source": [
    "### 3.3 効率性比率（Activity Ratios）\n",
    "- **総資産回転率（Total Asset Turnover）**:  \n",
    "  $$ \\text{Total Asset Turnover} = \\frac{\\text{Sales}}{\\text{Total Assets}} $$\n",
    "- **棚卸資産回転率（Inventory Turnover）**:  \n",
    "  $$ \\text{Inventory Turnover} = \\frac{\\text{Cost of Goods Sold (COGS)}}{\\text{Inventory}} $$"
   ]
  },
  {
   "cell_type": "markdown",
   "metadata": {},
   "source": [
    "### 3.4 レバレッジ比率（Leverage Ratios）\n",
    "- **負債比率（Debt Ratio）**:  \n",
    "  $$ \\text{Debt Ratio} = \\frac{\\text{Total Debt}}{\\text{Total Assets}} $$\n",
    "- **負債資本比率（Debt to Equity Ratio）**:  \n",
    "  $$ \\text{Debt to Equity Ratio} = \\frac{\\text{Total Debt}}{\\text{Shareholder's Equity}} $$"
   ]
  },
  {
   "cell_type": "markdown",
   "metadata": {},
   "source": [
    "### 3.5 市場価値比率（Market Value Ratios）\n",
    "- **株価収益率（Price-to-Earnings Ratio, P/E）**:  \n",
    "  $$ P/E = \\frac{\\text{Market Price per Share}}{\\text{Earnings per Share (EPS)}} $$\n",
    "- **配当利回り（Dividend Yield）**:  \n",
    "  $$ \\text{Dividend Yield} = \\frac{\\text{Dividend per Share}}{\\text{Market Price per Share}} $$"
   ]
  }
 ],
 "metadata": {
  "kernelspec": {
   "display_name": "Python 3",
   "language": "python",
   "name": "python3"
  },
  "language_info": {
   "name": "python"
  }
 },
 "nbformat": 4,
 "nbformat_minor": 5
}
