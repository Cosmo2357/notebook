{
 "cells": [
  {
   "cell_type": "markdown",
   "metadata": {},
   "source": [
    "# 1. 収益性比率（Profitability Ratios）\n",
    "収益性を評価する比率で、会社の利益獲得能力を示します。\n",
    "\n",
    "- **純利益率（Net Profit Margin）**:  \n",
    "  $$ \\text{Net Profit Margin} = \\frac{\\text{Net Income}}{\\text{Sales}} $$\n",
    "- **総資本利益率（Return on Assets, ROA）**:  \n",
    "  $$ ROA = \\frac{\\text{Net Income}}{\\text{Total Assets}} $$\n",
    "- **株主資本利益率（Return on Equity, ROE）**:  \n",
    "  $$ ROE = \\frac{\\text{Net Income}}{\\text{Shareholder's Equity}} $$\n",
    "- **営業利益率（Operating Profit Margin）**:  \n",
    "  $$ \\text{Operating Profit Margin} = \\frac{\\text{Operating Income}}{\\text{Sales}} $$\n",
    "- **総資本回転率（Return on Total Capital, ROTC）**:  \n",
    "  $$ ROTC = \\frac{\\text{Net Income}}{\\text{Total Capital}} $$\n",
    "- **営業資本利益率（Return on Operating Capital, ROOC）**:  \n",
    "  $$ ROOC = \\frac{\\text{Operating Income}}{\\text{Operating Capital}} $$"
   ]
  },
  {
   "cell_type": "markdown",
   "metadata": {},
   "source": [
    "# 2. 流動性比率（Liquidity Ratios）\n",
    "会社の短期的な支払能力を評価する比率です。\n",
    "\n",
    "- **流動比率（Current Ratio）**:  \n",
    "  $$ \\text{Current Ratio} = \\frac{\\text{Current Assets}}{\\text{Current Liabilities}} $$\n",
    "- **当座比率（Quick Ratio / Acid-Test Ratio）**:  \n",
    "  $$ \\text{Quick Ratio} = \\frac{\\text{Current Assets} - \\text{Inventory}}{\\text{Current Liabilities}} $$\n",
    "- **キャッシュ比率（Cash Ratio）**:  \n",
    "  $$ \\text{Cash Ratio} = \\frac{\\text{Cash and Cash Equivalents}}{\\text{Current Liabilities}} $$\n",
    "- **運転資本比率（Working Capital Ratio）**:  \n",
    "  $$ \\text{Working Capital Ratio} = \\frac{\\text{Current Assets} - \\text{Current Liabilities}}{\\text{Total Assets}} $$"
   ]
  },
  {
   "cell_type": "markdown",
   "metadata": {},
   "source": [
    "# 3. 効率性比率（Activity Ratios）\n",
    "会社の資産をどれだけ効率的に活用しているかを示す比率です。\n",
    "\n",
    "- **総資産回転率（Total Asset Turnover）**:  \n",
    "  $$ \\text{Total Asset Turnover} = \\frac{\\text{Sales}}{\\text{Total Assets}} $$\n",
    "- **売上債権回転率（Receivables Turnover）**:  \n",
    "  $$ \\text{Receivables Turnover} = \\frac{\\text{Sales}}{\\text{Accounts Receivable}} $$\n",
    "- **棚卸資産回転率（Inventory Turnover）**:  \n",
    "  $$ \\text{Inventory Turnover} = \\frac{\\text{Cost of Goods Sold (COGS)}}{\\text{Inventory}} $$\n",
    "- **固定資産回転率（Fixed Asset Turnover）**:  \n",
    "  $$ \\text{Fixed Asset Turnover} = \\frac{\\text{Sales}}{\\text{Fixed Assets}} $$\n",
    "- **運転資本回転率（Working Capital Turnover）**:  \n",
    "  $$ \\text{Working Capital Turnover} = \\frac{\\text{Sales}}{\\text{Working Capital}} $$"
   ]
  },
  {
   "cell_type": "markdown",
   "metadata": {},
   "source": [
    "# 4. レバレッジ比率（Leverage Ratios）\n",
    "会社の負債に対する依存度を示す比率で、財務リスクを評価します。\n",
    "\n",
    "- **負債比率（Debt Ratio）**:  \n",
    "  $$ \\text{Debt Ratio} = \\frac{\\text{Total Debt}}{\\text{Total Assets}} $$\n",
    "- **負債資本比率（Debt to Equity Ratio）**:  \n",
    "  $$ \\text{Debt to Equity Ratio} = \\frac{\\text{Total Debt}}{\\text{Shareholder's Equity}} $$\n",
    "- **インタレスト・カバレッジ・レシオ（Interest Coverage Ratio）**:  \n",
    "  $$ \\text{Interest Coverage Ratio} = \\frac{\\text{Operating Income}}{\\text{Interest Expense}} $$\n",
    "- **固定負債カバレッジ比率（Fixed Charge Coverage Ratio）**:  \n",
    "  $$ \\text{Fixed Charge Coverage Ratio} = \\frac{\\text{Operating Income} + \\text{Fixed Charges}}{\\text{Fixed Charges} + \\text{Interest Expense}} $$"
   ]
  },
  {
   "cell_type": "markdown",
   "metadata": {},
   "source": [
    "# 5. 市場価値比率（Market Value Ratios）\n",
    "投資家にとっての会社の価値を測定するための比率です。\n",
    "\n",
    "- **株価収益率（Price-to-Earnings Ratio, P/E）**:  \n",
    "  $$ P/E = \\frac{\\text{Market Price per Share}}{\\text{Earnings per Share (EPS)}} $$\n",
    "- **株価売上高倍率（Price-to-Sales Ratio, P/S）**:  \n",
    "  $$ P/S = \\frac{\\text{Market Price per Share}}{\\text{Sales per Share}} $$\n",
    "- **株価簿価倍率（Price-to-Book Ratio, P/B）**:  \n",
    "  $$ P/B = \\frac{\\text{Market Price per Share}}{\\text{Book Value per Share}} $$\n",
    "- **配当利回り（Dividend Yield）**:  \n",
    "  $$ \\text{Dividend Yield} = \\frac{\\text{Dividend per Share}}{\\text{Market Price per Share}} $$"
   ]
  },
  {
   "cell_type": "markdown",
   "metadata": {},
   "source": [
    "# 6. 支払能力比率（Solvency Ratios）\n",
    "会社の長期的な支払能力を評価します。\n",
    "\n",
    "- **固定負債比率（Fixed Charge Coverage Ratio）**:  \n",
    "  長期の負債やリース支払を含む財務負担の支払能力を示す比率です。\n",
    "- **インタレスト・ベアリング負債比率（Interest-Bearing Debt Ratio）**:  \n",
    "  $$ \\text{Interest-Bearing Debt Ratio} = \\frac{\\text{Interest-Bearing Debt}}{\\text{Total Assets}} $$\n",
    "- **デット・サービス・カバレッジ・レシオ（Debt Service Coverage Ratio, DSCR）**:  \n",
    "  $$ \\text{DSCR} = \\frac{\\text{Net Operating Income}}{\\text{Total Debt Service}} $$"
   ]
  }
 ],
 "metadata": {
  "kernelspec": {
   "display_name": "Python 3",
   "language": "python",
   "name": "python3"
  },
  "language_info": {
   "name": "python"
  }
 },
 "nbformat": 4,
 "nbformat_minor": 5
}

