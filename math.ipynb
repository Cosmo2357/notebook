{
 "cells": [
  {
   "cell_type": "markdown",
   "metadata": {},
   "source": [
    "### 二項分布の確率質量関数\n",
    "\n",
    "1. **一般的な形式**:\n",
    "   $$\n",
    "   C(n, k) \\times p^k \\times q^{(n-k)}\n",
    "   $$\n",
    "   - ここで、\\( p \\) は成功の確率、\\( q \\) は失敗の確率（\\( q = 1 - p \\)）を意味します。\n",
    "   - この形式は、成功と失敗の確率を明確に区別したい場合に使われます。\n",
    "\n",
    "2. **補完的な形式**:\n",
    "   $$\n",
    "   P(X = k) = C(n, k) \\times p^k \\times (1-p)^{n-k}\n",
    "   $$\n",
    "   - この表現では、失敗の確率が \\( 1-p \\) として直接示されています。\n",
    "   - 成功の確率と失敗の確率が補完的な関係にある（合計して1になる）ことを反映しています。\n"
   ]
  },
  {
   "cell_type": "markdown",
   "metadata": {},
   "source": [
    "# ベイズの定理\n",
    "\n",
    "ベイズの定理は、既知の確率から未知の確率を推定するために用いられる重要な数学的原理です。この定理は、条件付き確率、事前確率、尤度に基づいて新しい情報を統合し、事後確率を更新するのに使われます。\n",
    "\n",
    "ベイズの定理の数式は以下の通りです：\n",
    "\n",
    "$$ P(A | B) = \\frac{P(B | A) \\times P(A)}{P(B)} $$\n",
    "\n",
    "ここで、\n",
    "- \\( P(A | B) \\) は事象 B が与えられたときの事象 A の条件付き確率（事後確率）。\n",
    "- \\( P(B | A) \\) は事象 A が与えられたときの事象 B の条件付き確率（尤度）。\n",
    "- \\( P(A) \\) は事象 A の事前確率。\n",
    "- \\( P(B) \\) は事象 B の確率です。\n",
    "\n",
    "この定理は、特に確率論や統計学において広く使用されています。\n"
   ]
  },
  {
   "cell_type": "markdown",
   "metadata": {},
   "source": [
    "# 組み合わせの公式\n",
    "\n",
    "組み合わせの数は、次の公式で計算できます：\n",
    "\n",
    "$$ C(n, k) = \\frac{n!}{k!(n-k)!} $$\n",
    "\n",
    "ここで、\n",
    "- \\( n \\) は試行回数\n",
    "- \\( k \\) は成功回数\n",
    "- \\( n! \\) は \\( n \\) の階乗、すなわち \\( 1 \\) から \\( n \\) までの積\n",
    "\n",
    "# 成功確率の計算\n",
    "\n",
    "特定の回数の成功を得る確率は、二項分布の確率質量関数を用いて計算できます：\n",
    "\n",
    "$$ P(X = k) = C(n, k) \\times p^k \\times (1-p)^{n-k} $$\n",
    "\n",
    "ここで、\n",
    "- \\( P(X = k) \\) は \\( n \\) 回の試行中に \\( k \\) 回成功する確率\n",
    "- \\( p \\) は単一試行における成功の確率\n",
    "- \\( 1-p \\) は単一試行における失敗の確率\n"
   ]
  },
  {
   "cell_type": "markdown",
   "metadata": {},
   "source": [
    "# 標準偏差の公式\n",
    "\n",
    "## 二項分布の標準偏差\n",
    "二項分布の場合、標準偏差は次の式で計算されます：\n",
    "$$ \\sigma = \\sqrt{n \\times p \\times (1 - p)} $$\n",
    "ここで、\n",
    "- \\( n \\) は試行回数\n",
    "- \\( p \\) は単一試行における成功の確率\n",
    "\n",
    "## 一般的なデータセットの標準偏差\n",
    "一般的なデータセットの標準偏差は次の式で計算されます：\n",
    "$$ \\sigma = \\sqrt{\\frac{1}{N}\\sum_{i=1}^{N}(x_i - \\mu)^2} $$\n",
    "ここで、\n",
    "- \\( \\sigma \\) は標準偏差\n",
    "- \\( N \\) はデータポイントの数\n",
    "- \\( x_i \\) は各データポイント\n",
    "- \\( \\mu \\) は平均値\n"
   ]
  },
 {
   "cell_type": "markdown",
   "metadata": {},
   "source": [
    "# 4. 企業価値評価（Corporate Valuation Metrics）\n",
    "企業価値を評価する際に使用される主要な指標です。\n",
    "\n",
    "## 4.1 EBITDA（Earnings Before Interest, Taxes, Depreciation, and Amortization）\n",
    "EBITDAは、企業の事業活動から得られる収益力を評価するために使用されます。\n",
    "- **公式**:  \n",
    "  $$ EBITDA = \\text{Operating Income (EBIT)} + \\text{Depreciation and Amortization} $$\n",
    "\n",
    "### 用途\n",
    "1. 企業のキャッシュフロー生成能力を測定する。\n",
    "2. 他の企業との比較を行う（減価償却費や税制が異なる場合でも）。\n",
    "\n",
    "## 4.2 EV/EBITDA（Enterprise Value to EBITDA）\n",
    "企業の評価額（Enterprise Value, EV）をEBITDAと比較することで、企業価値の適正性を評価します。\n",
    "- **公式**:  \n",
    "  $$ EV/EBITDA = \\frac{\\text{Enterprise Value (EV)}}{\\text{EBITDA}} $$\n",
    "- **EVの計算**:  \n",
    "  $$ EV = \\text{Market Capitalization} + \\text{Debt} - \\text{Cash} $$"
   ]
  },
  {
   "cell_type": "markdown",
   "metadata": {},
   "source": [
    "## 4.3 WACC（Weighted Average Cost of Capital）\n",
    "WACCは、資本コストを加重平均した値で、企業が資金調達を行う際のコストを評価します。\n",
    "- **公式**:  \n",
    "  $$ WACC = \\frac{E}{V} \\cdot r_e + \\frac{D}{V} \\cdot r_d \\cdot (1 - T) $$\n",
    "  - \\( E \\): 株式価値（Equity）\n",
    "  - \\( D \\): 負債価値（Debt）\n",
    "  - \\( V \\): 資本全体の価値（\\( V = E + D \\)）\n",
    "  - \\( r_e \\): 株主資本コスト（Cost of Equity）\n",
    "  - \\( r_d \\): 負債コスト（Cost of Debt）\n",
    "  - \\( T \\): 法人税率（Tax Rate）\n",
    "\n",
    "### 用途\n",
    "1. プロジェクトや企業の投資収益性を評価する。\n",
    "2. DCF（Discounted Cash Flow）分析での割引率として使用する。\n",
    "\n",
    "## 4.4 NPV（Net Present Value）\n",
    "将来のキャッシュフローの現在価値と投資額を比較して、そのプロジェクトが収益性があるかどうかを判断します。\n",
    "- **公式**:  \n",
    "  $$ NPV = \\sum_{t=1}^{n} \\frac{CF_t}{(1 + r)^t} - C_0 $$\n",
    "  - \\( CF_t \\): 各期間のキャッシュフロー\n",
    "  - \\( r \\): 割引率（通常はWACC）\n",
    "  - \\( C_0 \\): 初期投資額\n",
    "\n",
    "## 4.5 IRR（Internal Rate of Return）\n",
    "NPVがゼロになる割引率を計算します。プロジェクトの収益性を評価する指標の一つです。\n",
    "- **公式**:  \n",
    "  $$ \\sum_{t=1}^{n} \\frac{CF_t}{(1 + IRR)^t} - C_0 = 0 $$\n",
    "  - \\( IRR \\): 内部収益率\n",
    "\n",
    "### 用途\n",
    "1. 投資案の収益性を比較する。\n",
    "2. 他のプロジェクトや資金調達コスト（例: WACC）と比較して意思決定を行う。"
   ]
  }
 ],
 "metadata": {
  "language_info": {
   "name": "python"
  }
 },
 "nbformat": 4,
 "nbformat_minor": 2
}
